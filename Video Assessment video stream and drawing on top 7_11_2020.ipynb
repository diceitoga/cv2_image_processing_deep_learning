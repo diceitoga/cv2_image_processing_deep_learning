{
 "cells": [
  {
   "cell_type": "markdown",
   "metadata": {},
   "source": [
    "# Video Assessment video stream and drawing on top 7_11_2020"
   ]
  },
  {
   "cell_type": "markdown",
   "metadata": {},
   "source": [
    "# Drawing blue circle on the Video stream"
   ]
  },
  {
   "cell_type": "code",
   "execution_count": 5,
   "metadata": {},
   "outputs": [],
   "source": [
    "# Base code\n",
    "import cv2\n",
    "\n",
    "########################################################\n",
    "# def draw_circle(event,x,y,flags,param):\n",
    "\n",
    "########################################################\n",
    "def draw_circle(event,x,y,flags,param):    # by default all event based drawing takes these paramenters as default\n",
    "    global center, clicked\n",
    "    \n",
    "    if event == cv2.EVENT_LBUTTONDOWN:\n",
    "        center = (x,y)\n",
    "        clicked = False\n",
    "        \n",
    "    if event == cv2.EVENT_LBUTTONUP:\n",
    "        clicked = True\n",
    "\n",
    "\n",
    "############## Global Variables  ##################################\n",
    "center = (0,0)\n",
    "clicked = False\n",
    "\n",
    "cap = cv2.VideoCapture(0)\n",
    "cv2.namedWindow(winname = 'MyFirstDynamic') \n",
    "# namedWindow creates a function with specific parameters (this happens before imshow() typically)\n",
    "cv2.setMouseCallback('MyFirstDynamic',draw_circle)\n",
    "# setMouseCallback calls draw_circle() inside the setMouseCallBack function that is passed in, and transform to the image\n",
    "# that is also passed in\n",
    "# setMouseCallBack() function will pass a lot of things like 1. event, 2. (x,y), 3. flags, 4. param so that draw_circle()\n",
    "# has all of the info it needs. \n",
    "\n",
    "######################################################################################\n",
    "while True:\n",
    "    ret,frame = cap.read()\n",
    "    # cv2.rectangle(frame, (x,y),(bottom_right_x,bottom_right_y), color = (0,0,255), thickness = 4)\n",
    "    ########################################\n",
    "    if clicked:\n",
    "        cv2.circle(frame, center = center, radius = 50, color = (255,0,0), thickness = 5)\n",
    "    \n",
    "    cv2.imshow('MyFirstDynamic',frame)\n",
    "    \n",
    "    if cv2.waitKey(1)& 0xFF == ord('q'):\n",
    "        break\n",
    "        \n",
    "cap.release()\n",
    "cv2.destroyAllWindows()\n",
    "    "
   ]
  },
  {
   "cell_type": "code",
   "execution_count": null,
   "metadata": {},
   "outputs": [],
   "source": []
  }
 ],
 "metadata": {
  "kernelspec": {
   "display_name": "Python 3",
   "language": "python",
   "name": "python3"
  },
  "language_info": {
   "codemirror_mode": {
    "name": "ipython",
    "version": 3
   },
   "file_extension": ".py",
   "mimetype": "text/x-python",
   "name": "python",
   "nbconvert_exporter": "python",
   "pygments_lexer": "ipython3",
   "version": "3.7.1"
  }
 },
 "nbformat": 4,
 "nbformat_minor": 2
}
