{
 "cells": [
  {
   "cell_type": "code",
   "execution_count": 1,
   "metadata": {},
   "outputs": [],
   "source": [
    "# Drawing the image using the mouse dynamically 6_13_2020\n",
    "%config IPCompleter.greedy=True"
   ]
  },
  {
   "cell_type": "code",
   "execution_count": 6,
   "metadata": {},
   "outputs": [],
   "source": [
    "'''\n",
    " Now we need to take the static image and do the following: \n",
    " step 1: connect call back functions step \n",
    " 2: adding functionality through 'event choices' \n",
    " step 3: dragging the mouse for functionality ''\n",
    "'''\n",
    "import numpy as np\n",
    "import cv2\n",
    "\n",
    "#################################\n",
    "######### Function ##############\n",
    "#################################\n",
    "# we will link the function to the image via 'MyFirstDynamic' as sort of the pointer #\n",
    "\n",
    "def draw_circle(event, x, y, flags, param):     # by default all event based drawing takes these paramenters as default\n",
    "    if event == cv2.EVENT_LBUTTONDOWN:\n",
    "        cv2.circle(img,(x,y),100,(0,255,0),-1)  #cv2.circle(img,(x,y),circle = 100,color=(0,255,0),fill=-1)\n",
    "#URL: https://opencv-python-tutroals.readthedocs.io/en/latest/py_tutorials/py_gui/py_drawing_functions/py_drawing_functions.html\n",
    "    elif event == cv2.EVENT_RBUTTONDOWN:\n",
    "        cv2.circle(img,(x,y),100,(255,0,0),-1)\n",
    "\n",
    "######################################################################\n",
    "#### below will connect the function to the image/'MyFirstDynamic' ###\n",
    "######################################################################\n",
    "\n",
    "cv2.namedWindow(winname = 'MyFirstDynamic') \n",
    "# namedWindow creates a function with specific parameters (this happens before imshow() typically)\n",
    "cv2.setMouseCallback('MyFirstDynamic',draw_circle)\n",
    "# setMouseCallback calls draw_circle() inside the setMouseCallBack function that is passed in, and transform to the image\n",
    "# that is also passed in\n",
    "# setMouseCallBack() function will pass a lot of things like 1. event, 2. (x,y), 3. flags, 4. param so that draw_circle()\n",
    "# has all of the info it needs. \n",
    "\n",
    "\n",
    "################################################\n",
    "######### showing the image with openCV ########\n",
    "################################################\n",
    "img = np.zeros((512,512,3), dtype = np.int8)\n",
    "while True: \n",
    "    cv2.imshow('MyFirstDynamic', img)\n",
    "    \n",
    "    if cv2.waitKey(20)& 0xFF==27:\n",
    "        break\n",
    "\n",
    "cv2.destroyAllWindows()\n",
    "    \n"
   ]
  },
  {
   "cell_type": "code",
   "execution_count": null,
   "metadata": {},
   "outputs": [],
   "source": []
  }
 ],
 "metadata": {
  "kernelspec": {
   "display_name": "Python 3",
   "language": "python",
   "name": "python3"
  },
  "language_info": {
   "codemirror_mode": {
    "name": "ipython",
    "version": 3
   },
   "file_extension": ".py",
   "mimetype": "text/x-python",
   "name": "python",
   "nbconvert_exporter": "python",
   "pygments_lexer": "ipython3",
   "version": "3.7.1"
  }
 },
 "nbformat": 4,
 "nbformat_minor": 2
}
