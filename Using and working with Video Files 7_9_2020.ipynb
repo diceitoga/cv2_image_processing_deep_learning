{
 "cells": [
  {
   "cell_type": "markdown",
   "metadata": {},
   "source": [
    "# Using and working with Video Files 7_9_2020"
   ]
  },
  {
   "cell_type": "code",
   "execution_count": 2,
   "metadata": {},
   "outputs": [],
   "source": [
    "import cv2\n",
    "import time   #  This library is also to regulate the speed of the replay for human consumption. \n",
    "import matplotlib.pyplot as plt"
   ]
  },
  {
   "cell_type": "markdown",
   "metadata": {},
   "source": [
    "# You can only have 1 source trying to read to the file (like 1 jupyter notebook/program). \n",
    "# If multiple, it will mess things up"
   ]
  },
  {
   "cell_type": "code",
   "execution_count": 11,
   "metadata": {},
   "outputs": [
    {
     "name": "stdout",
     "output_type": "stream",
     "text": [
      "Height:  480  Width:  640\n"
     ]
    }
   ],
   "source": [
    "# This is for gray image and works! \n",
    "\n",
    "cap = cv2.VideoCapture(0) \n",
    "# you often want width and height of the video stream\n",
    "\n",
    "cap = cv2.VideoCapture(0) \n",
    "width  = int(cap.get(cv2.CAP_PROP_FRAME_WIDTH))\n",
    "height = int(cap.get(cv2.CAP_PROP_FRAME_HEIGHT))\n",
    "print('Height: ',height,  ' Width: ',width)\n",
    "\n",
    "while True: \n",
    "    ret,frame = cap.read()\n",
    "    gray = cv2.cvtColor(frame, cv2.COLOR_BGR2GRAY)\n",
    "    \n",
    "    cv2.imshow('frame', gray)\n",
    "    \n",
    "    if cv2.waitKey(1)&0xFF == ord('q'):\n",
    "        break\n",
    "cap.release()       \n",
    "cv2.destroyAllWindows()\n",
    "        \n",
    "    \n"
   ]
  },
  {
   "cell_type": "code",
   "execution_count": 15,
   "metadata": {},
   "outputs": [
    {
     "name": "stdout",
     "output_type": "stream",
     "text": [
      "Height:  480  Width:  640\n"
     ]
    }
   ],
   "source": [
    "# THis is for color\n",
    "cap = cv2.VideoCapture(0) \n",
    "# you often want width and height of the video stream\n",
    "\n",
    "cap = cv2.VideoCapture(0) \n",
    "width  = int(cap.get(cv2.CAP_PROP_FRAME_WIDTH))\n",
    "height = int(cap.get(cv2.CAP_PROP_FRAME_HEIGHT))\n",
    "print('Height: ',height,  ' Width: ',width)\n",
    "\n",
    "writer = cv2.VideoWriter('dicitoga.mp4', cv2.VideoWriter_fourcc(*'DIVX'),30,(width, height))  # this writes to the current folder under this file name \n",
    "# the parameter cv2.vidoeWriter_fourcc is a codec and you have to look up and choose an appropriate one. \n",
    "# for windows, the condec is (*'DIVX')\n",
    "# for Linux or Mac, it is (*'XVID')\n",
    "while True: \n",
    "    ret,frame = cap.read()\n",
    "    \n",
    "    # you do operation like writing here...\n",
    "    \n",
    "    writer.write(frame)   # this writes every frame it reads in at 30FPS\n",
    "    cv2.imshow('frame', frame)\n",
    "    \n",
    "    if cv2.waitKey(1)&0xFF == ord('q'):\n",
    "        break\n",
    "cap.release()  \n",
    "writer.release()\n",
    "cv2.destroyAllWindows()"
   ]
  },
  {
   "cell_type": "code",
   "execution_count": 16,
   "metadata": {},
   "outputs": [],
   "source": [
    "# cap = cv2.VideoCapture('../DATA/video_capture.mp4')\n",
    "# cap = cv2.VideoCapture(0) == This will capture from the default camera stream\n",
    "\n",
    "cap = cv2.VideoCapture('./original/Computer-Vision-with-Python/DATA/video_capture.mp4')\n",
    "fps = 25\n",
    "if cap.isOpened()== False:    # if the file is not there, you CAN'T open the file\n",
    "    print('ERROR: File Not Found... the address for the image may be incorrect')\n",
    "    print('Or the wrong codec was used')\n",
    "    \n",
    "#isOpened is a STATE where the video is actually playing...    \n",
    "while cap.isOpened():  \n",
    "    ret, frame = cap.read()\n",
    "    # If the frames are there/not empty, then ret will return True.  But if the frames are null than False (done playing)\n",
    "    if ret == True:\n",
    "        \n",
    "        # Display the frame at same frame rate of recording\n",
    "        # Watch lecture video for full explanation\n",
    "        time.sleep(1/fps)    # this is to play at the same pace as the recording for human cosumption\n",
    "        cv2.imshow('frame',frame)\n",
    " \n",
    "        # Press q to quit\n",
    "        if cv2.waitKey(25) & 0xFF == ord('q'):\n",
    "            \n",
    "            break\n",
    " \n",
    "    # Or automatically break this whole loop if the video is over.\n",
    "    else:\n",
    "        break\n",
    "        \n",
    "cap.release()\n",
    "# Closes all the frames\n",
    "cv2.destroyAllWindows()"
   ]
  },
  {
   "cell_type": "code",
   "execution_count": null,
   "metadata": {},
   "outputs": [],
   "source": []
  }
 ],
 "metadata": {
  "kernelspec": {
   "display_name": "Python 3",
   "language": "python",
   "name": "python3"
  },
  "language_info": {
   "codemirror_mode": {
    "name": "ipython",
    "version": 3
   },
   "file_extension": ".py",
   "mimetype": "text/x-python",
   "name": "python",
   "nbconvert_exporter": "python",
   "pygments_lexer": "ipython3",
   "version": "3.7.1"
  }
 },
 "nbformat": 4,
 "nbformat_minor": 2
}
