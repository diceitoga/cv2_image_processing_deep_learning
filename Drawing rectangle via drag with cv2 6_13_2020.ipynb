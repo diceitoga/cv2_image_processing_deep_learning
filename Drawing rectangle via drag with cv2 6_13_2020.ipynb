{
 "cells": [
  {
   "cell_type": "markdown",
   "metadata": {},
   "source": [
    "# Drawing rectangle via drag with cv2 6_13_2020"
   ]
  },
  {
   "cell_type": "code",
   "execution_count": 2,
   "metadata": {},
   "outputs": [],
   "source": [
    "import numpy as np\n",
    "import cv2 \n"
   ]
  },
  {
   "cell_type": "code",
   "execution_count": 3,
   "metadata": {},
   "outputs": [],
   "source": [
    "'''\n",
    "This will be a good review using rectangle as opposed to circle\n",
    "'''\n",
    "### Variables ########################\n",
    "drawing = False    # this is True if the mouse is in a 'Pushed down' state\n",
    "ix, iy = -1,-1\n",
    "\n",
    "\n",
    "\n",
    "######################################\n",
    "### First the function ###############\n",
    "######################################\n",
    "def draw_rectangle(event, x,y,flags,params):\n",
    "    global ix,iy, drawing\n",
    "    \n",
    "    if event == cv2.EVENT_LBUTTONDOWN:\n",
    "        drawing = True\n",
    "        ix, iy = x,y    # the default may be -1 for each, but will change based on the x,y  from the call back\n",
    "        \n",
    "    elif event == cv2.EVENT_MOUSEMOVE:\n",
    "        if drawing ==True: \n",
    "            cv2.rectangle(img,(ix,iy),(x,y),(0,255,0),-1)  \n",
    "            #you need two points for rectangles: diagnal top left and bottom right as mouse moves\n",
    "            \n",
    "    elif event == cv2.EVENT_LBUTTONUP:    #The button is up, which means the event is now off\n",
    "        drawing = False \n",
    "        cv2.rectangle(img,(ix,iy),(x,y),(0,255,0),-1)\n",
    "        \n",
    "######################################\n",
    "### Second to lay the image ##########\n",
    "######################################\n",
    "\n",
    "#black image below\n",
    "img = np.zeros((512,512,3))\n",
    "#creating window/pan\n",
    "cv2.namedWindow(winname = 'my_rectangle')\n",
    "# call back to the drawing_function\n",
    "cv2.setMouseCallback('my_rectangle',draw_rectangle)   \n",
    "# sets events that are happening on the draw_rectangle to 'my_rectangle'\n",
    "\n",
    "while True:\n",
    "    cv2.imshow('my_rectangle',img)    # connecting the function through 'my_rectangle' which points to draw_rectangle\n",
    "    # and the img (which is all black) together\n",
    "    if cv2.waitKey(1)& 0xFF ==27:   # remember waitKey(<millisecond value>) and 27 is 'esc' button\n",
    "        break\n",
    "        \n",
    "cv2.destroyAllWindows()\n",
    "    \n"
   ]
  },
  {
   "cell_type": "code",
   "execution_count": null,
   "metadata": {},
   "outputs": [],
   "source": []
  }
 ],
 "metadata": {
  "kernelspec": {
   "display_name": "Python 3",
   "language": "python",
   "name": "python3"
  },
  "language_info": {
   "codemirror_mode": {
    "name": "ipython",
    "version": 3
   },
   "file_extension": ".py",
   "mimetype": "text/x-python",
   "name": "python",
   "nbconvert_exporter": "python",
   "pygments_lexer": "ipython3",
   "version": "3.7.1"
  }
 },
 "nbformat": 4,
 "nbformat_minor": 2
}
