{
 "cells": [
  {
   "cell_type": "code",
   "execution_count": 1,
   "metadata": {},
   "outputs": [],
   "source": [
    "# drawing polygons openCV2 6_12_2020\n",
    "\n",
    "# drawing images 6_11_2020\n",
    "\n",
    "import numpy as np\n",
    "import matplotlib.pyplot as plt\n",
    "%matplotlib inline\n",
    "import cv2\n"
   ]
  },
  {
   "cell_type": "code",
   "execution_count": 2,
   "metadata": {},
   "outputs": [
    {
     "name": "stderr",
     "output_type": "stream",
     "text": [
      "Clipping input data to the valid range for imshow with RGB data ([0..1] for floats or [0..255] for integers).\n",
      "Clipping input data to the valid range for imshow with RGB data ([0..1] for floats or [0..255] for integers).\n",
      "Clipping input data to the valid range for imshow with RGB data ([0..1] for floats or [0..255] for integers).\n"
     ]
    },
    {
     "data": {
      "text/plain": [
       "<matplotlib.image.AxesImage at 0xe8d350>"
      ]
     },
     "execution_count": 2,
     "metadata": {},
     "output_type": "execute_result"
    },
    {
     "data": {
      "image/png": "[encoded data removed]",
      "text/plain": [
       "<Figure size 432x288 with 1 Axes>"
      ]
     },
     "metadata": {
      "needs_background": "light"
     },
     "output_type": "display_data"
    }
   ],
   "source": [
    "blank_image = np.zeros(shape = (512,512,3))\n",
    "blank_image.shape\n",
    "\n",
    "# Now we will draw images\n",
    "cv2.rectangle(blank_image, pt1 =(384,10), pt2 = (510,150),color=(0,255,0),thickness = 10) \n",
    "# pt1 = top left, pt2 = bottom right...two points is all you need to create a rectangle on a plane\n",
    "\n",
    "cv2.rectangle(blank_image, pt1 = (200,200), pt2 = (300,300),color = (0,0,255), thickness = 10)\n",
    "\n",
    "cv2.circle(img =blank_image, center = (100,100),radius = 50, color= (255,0,0),thickness = 8)\n",
    "plt.imshow(blank_image)\n",
    "\n",
    "cv2.circle(img =blank_image, center = (400,400),radius = 50, color= (255,0,0),thickness = -1)\n",
    "plt.imshow(blank_image)\n",
    "\n",
    "cv2.line(blank_image, pt1 = (0,0), pt2 =(512,512), color =(102,255,255), thickness=5 )\n",
    "plt.imshow(blank_image)"
   ]
  },
  {
   "cell_type": "code",
   "execution_count": 3,
   "metadata": {},
   "outputs": [
    {
     "name": "stderr",
     "output_type": "stream",
     "text": [
      "Clipping input data to the valid range for imshow with RGB data ([0..1] for floats or [0..255] for integers).\n"
     ]
    },
    {
     "data": {
      "text/plain": [
       "<matplotlib.image.AxesImage at 0xf06570>"
      ]
     },
     "execution_count": 3,
     "metadata": {},
     "output_type": "execute_result"
    },
    {
     "data": {
      "image/png": "[encoded data removed]",
      "text/plain": [
       "<Figure size 432x288 with 1 Axes>"
      ]
     },
     "metadata": {
      "needs_background": "light"
     },
     "output_type": "display_data"
    }
   ],
   "source": [
    "# now we will write\n",
    "\n",
    "font= cv2.FONT_HERSHEY_SIMPLEX\n",
    "cv2.putText(blank_image, text = 'Hello', org = (10,500),fontFace = font, fontScale = 4, color = (255,255,255), thickness = 3, lineType = cv2.LINE_AA)\n",
    "plt.imshow(blank_image)\n",
    "\n"
   ]
  },
  {
   "cell_type": "code",
   "execution_count": 4,
   "metadata": {},
   "outputs": [
    {
     "data": {
      "text/plain": [
       "<matplotlib.image.AxesImage at 0xf44230>"
      ]
     },
     "execution_count": 4,
     "metadata": {},
     "output_type": "execute_result"
    },
    {
     "data": {
      "image/png": "[encoded data removed]",
      "text/plain": [
       "<Figure size 432x288 with 1 Axes>"
      ]
     },
     "metadata": {
      "needs_background": "light"
     },
     "output_type": "display_data"
    }
   ],
   "source": [
    "# Now we learn to write custom polygons\n",
    "\n",
    "blk_img = np.zeros(shape = (512,512,3), dtype = np.int32)\n",
    "plt.imshow(blk_img)"
   ]
  },
  {
   "cell_type": "code",
   "execution_count": null,
   "metadata": {},
   "outputs": [],
   "source": [
    "# to draw polygon, you must decide on the verticies.\n",
    "verticies = np.array([[],[],[],[]])"
   ]
  }
 ],
 "metadata": {
  "kernelspec": {
   "display_name": "Python 3",
   "language": "python",
   "name": "python3"
  },
  "language_info": {
   "codemirror_mode": {
    "name": "ipython",
    "version": 3
   },
   "file_extension": ".py",
   "mimetype": "text/x-python",
   "name": "python",
   "nbconvert_exporter": "python",
   "pygments_lexer": "ipython3",
   "version": "3.7.1"
  }
 },
 "nbformat": 4,
 "nbformat_minor": 2
}
